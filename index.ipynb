{
 "cells": [
  {
   "cell_type": "markdown",
   "metadata": {},
   "source": [
    "# Implementing Statistics with Functions - Lab\n",
    "\n",
    "## Introduction \n",
    "In this lab you'll dive deep into calculating the measures of central tendency and dispersion introduced in previous lessons. You will code the formulas for these functions in Python which will require you to use the programming skills that you have gained in the other lessons of this section. Let's get started!\n",
    "\n",
    "## Objectives\n",
    "\n",
    "You will be able to:\n",
    "\n",
    "* Calculate the measures of dispersion for a dataset\n",
    "* Compare the different measures of dispersion\n",
    "* Calculate the measures of central tendency for a dataset\n",
    "* Compare the different measures of central tendency\n",
    "\n",
    "## Dataset\n",
    "\n",
    "For this lab, we'll use the [NHIS dataset](http://people.ucsc.edu/~cdobkin/NHIS%202007%20data.csv), which contains weights, heights, and some other attributes for a number of surveyed individuals. The context of this survey is outside the scope this lab, so we'll just go ahead and load the heights column as a list for us to run some simple statistical experiments. We'll use the `pandas` library to import the data into our Python environment. This process will be covered in detail in the next section. For now, we'll do this part for you to give you a head start.  \n",
    "\n",
    "Run the cell below to import the data. "
   ]
  },
  {
   "cell_type": "code",
   "execution_count": 1,
   "metadata": {},
   "outputs": [
    {
     "data": {
      "text/html": [
       "<div>\n",
       "<style scoped>\n",
       "    .dataframe tbody tr th:only-of-type {\n",
       "        vertical-align: middle;\n",
       "    }\n",
       "\n",
       "    .dataframe tbody tr th {\n",
       "        vertical-align: top;\n",
       "    }\n",
       "\n",
       "    .dataframe thead th {\n",
       "        text-align: right;\n",
       "    }\n",
       "</style>\n",
       "<table border=\"1\" class=\"dataframe\">\n",
       "  <thead>\n",
       "    <tr style=\"text-align: right;\">\n",
       "      <th></th>\n",
       "      <th>HHX</th>\n",
       "      <th>FMX</th>\n",
       "      <th>FPX</th>\n",
       "      <th>SEX</th>\n",
       "      <th>BMI</th>\n",
       "      <th>SLEEP</th>\n",
       "      <th>educ</th>\n",
       "      <th>height</th>\n",
       "      <th>weight</th>\n",
       "    </tr>\n",
       "  </thead>\n",
       "  <tbody>\n",
       "    <tr>\n",
       "      <td>0</td>\n",
       "      <td>16</td>\n",
       "      <td>1</td>\n",
       "      <td>2</td>\n",
       "      <td>1</td>\n",
       "      <td>33.36</td>\n",
       "      <td>8</td>\n",
       "      <td>16</td>\n",
       "      <td>74</td>\n",
       "      <td>260</td>\n",
       "    </tr>\n",
       "    <tr>\n",
       "      <td>1</td>\n",
       "      <td>20</td>\n",
       "      <td>1</td>\n",
       "      <td>1</td>\n",
       "      <td>1</td>\n",
       "      <td>26.54</td>\n",
       "      <td>7</td>\n",
       "      <td>14</td>\n",
       "      <td>70</td>\n",
       "      <td>185</td>\n",
       "    </tr>\n",
       "    <tr>\n",
       "      <td>2</td>\n",
       "      <td>69</td>\n",
       "      <td>1</td>\n",
       "      <td>2</td>\n",
       "      <td>2</td>\n",
       "      <td>32.13</td>\n",
       "      <td>7</td>\n",
       "      <td>9</td>\n",
       "      <td>61</td>\n",
       "      <td>170</td>\n",
       "    </tr>\n",
       "    <tr>\n",
       "      <td>3</td>\n",
       "      <td>87</td>\n",
       "      <td>1</td>\n",
       "      <td>1</td>\n",
       "      <td>1</td>\n",
       "      <td>26.62</td>\n",
       "      <td>8</td>\n",
       "      <td>14</td>\n",
       "      <td>68</td>\n",
       "      <td>175</td>\n",
       "    </tr>\n",
       "    <tr>\n",
       "      <td>4</td>\n",
       "      <td>88</td>\n",
       "      <td>1</td>\n",
       "      <td>1</td>\n",
       "      <td>2</td>\n",
       "      <td>27.13</td>\n",
       "      <td>8</td>\n",
       "      <td>13</td>\n",
       "      <td>66</td>\n",
       "      <td>168</td>\n",
       "    </tr>\n",
       "  </tbody>\n",
       "</table>\n",
       "</div>"
      ],
      "text/plain": [
       "   HHX  FMX  FPX  SEX    BMI  SLEEP  educ  height  weight\n",
       "0   16    1    2    1  33.36      8    16      74     260\n",
       "1   20    1    1    1  26.54      7    14      70     185\n",
       "2   69    1    2    2  32.13      7     9      61     170\n",
       "3   87    1    1    1  26.62      8    14      68     175\n",
       "4   88    1    1    2  27.13      8    13      66     168"
      ]
     },
     "execution_count": 1,
     "metadata": {},
     "output_type": "execute_result"
    }
   ],
   "source": [
    "import pandas as pd\n",
    "df = pd.read_csv('nhis.csv')\n",
    "height = list(df['height'])\n",
    "df.head()"
   ]
  },
  {
   "cell_type": "markdown",
   "metadata": {},
   "source": [
    "We are only interested in the height column, so we saved it as a list in the variable `height` in the cell above. \n",
    "\n",
    "In the cell below:\n",
    "\n",
    "* Print out the number of items in `height`\n",
    "* Slice and print out the first 10 items from `height`"
   ]
  },
  {
   "cell_type": "code",
   "execution_count": 4,
   "metadata": {
    "scrolled": true
   },
   "outputs": [
    {
     "name": "stdout",
     "output_type": "stream",
     "text": [
      "4785\n",
      "[74, 70, 61, 68, 66, 98, 99, 70, 65, 64]\n"
     ]
    }
   ],
   "source": [
    " # Expected Output: 4785\n",
    " # Expected Output: [74, 70, 61, 68, 66, 98, 99, 70, 65, 64]\n",
    "\n",
    "print(len(height))\n",
    "print(height[:10])"
   ]
  },
  {
   "cell_type": "markdown",
   "metadata": {},
   "source": [
    "So, around 4700 records of height. That's great. Next, we'll try plotting some basic **_Histograms_** for these records. \n",
    "\n",
    "## Plotting Histograms\n",
    "\n",
    "We'll begin by importing the `pyplot` module from the library `matplotlib` and setting an alias of `plt` for it (so that we only have to type `plt.` instead of `matplotlib.pyplot.` each time we want to use it).  Note that `plt` is considered the **_Standard Alias_** for matplotlib.\n",
    "\n",
    "Run the cell below to import matplotlib and use it to create a histogram of our `height` data with 8 different bins. "
   ]
  },
  {
   "cell_type": "code",
   "execution_count": 5,
   "metadata": {},
   "outputs": [],
   "source": [
    "# Import matplotlib and plot histogram for height data\n",
    "import matplotlib.pyplot as plt\n",
    "%matplotlib inline  \n",
    "# ^^This is a 'magic command' built into jupyter notebooks. We use it so that the visualization displays \n",
    "# in the notebook directly, instead of in a separate window.  "
   ]
  },
  {
   "cell_type": "markdown",
   "metadata": {},
   "source": [
    "Next, we'll use matplotlib to create a histogram by passing in our data, as well as the parameter `bins=8`."
   ]
  },
  {
   "cell_type": "code",
   "execution_count": 8,
   "metadata": {},
   "outputs": [
    {
     "data": {
      "image/png": "[encoded data removed]",
      "text/plain": [
       "<Figure size 576x360 with 1 Axes>"
      ]
     },
     "metadata": {
      "needs_background": "light"
     },
     "output_type": "display_data"
    }
   ],
   "source": [
    "# Expected output below\n",
    "plt.figure(figsize=(8, 5))\n",
    "plt.hist(height, bins=8)\n",
    "plt.show()"
   ]
  },
  {
   "cell_type": "markdown",
   "metadata": {},
   "source": [
    "Do you spot anything unusual above? Some outliers, maybe?\n",
    "\n",
    "## Measures of Central Tendency: Calculating the Mean"
   ]
  },
  {
   "cell_type": "markdown",
   "metadata": {},
   "source": [
    "We're just beginning to dig into the data stored in `height`. We'll begin by writing a function to calculate the mean of the data.  Recall the formula for calculating mean:\n",
    "\n",
    "$$ \\Large \\bar{x} = \\frac{1}{n} \\sum_{i=1}^{n}x_i $$\n",
    "\n",
    "Using the Python skills you have learned so far, create a function `get_mean()` to perform the following tasks: \n",
    "* Input a list of numbers (like the height list we have above)\n",
    "* Calculate the sum of numbers and length of the list \n",
    "* Calculate mean from above, round off to 2 decimals and return it."
   ]
  },
  {
   "cell_type": "code",
   "execution_count": 9,
   "metadata": {},
   "outputs": [
    {
     "name": "stdout",
     "output_type": "stream",
     "text": [
      "3.0\n",
      "2.5\n"
     ]
    }
   ],
   "source": [
    "def get_mean(data):\n",
    "\n",
    "    mean = sum(data) / len(data)\n",
    "    \n",
    "    return round(mean,2)\n",
    "\n",
    "test1 = [5, 4, 1, 3, 2]\n",
    "test2 = [4, 2, 3, 1]\n",
    "\n",
    "print(get_mean(test1)) # 3\n",
    "print(get_mean(test2)) # 2.5"
   ]
  },
  {
   "cell_type": "markdown",
   "metadata": {},
   "source": [
    "Now, we'll test the function by passing in the height list."
   ]
  },
  {
   "cell_type": "code",
   "execution_count": 10,
   "metadata": {},
   "outputs": [
    {
     "name": "stdout",
     "output_type": "stream",
     "text": [
      "Sample Mean: 69.58\n"
     ]
    }
   ],
   "source": [
    "# After creating the function, pass the height list to the function \n",
    "mean = get_mean(height)\n",
    "\n",
    "print(\"Sample Mean:\", mean)\n",
    "\n",
    "# Sample Mean: 69.58"
   ]
  },
  {
   "cell_type": "markdown",
   "metadata": {},
   "source": [
    "So, we have our mean length, 69.58, and this confirms our observations from the histogram. But we also have some outliers in our data above and we know outliers affect the mean calculation by pulling the mean value in their direction. So, let's remove these outliers and create a new list to see if our mean shifts or stays. We'll use a threshold of 80 inches, i.e. filter out any values greater than 80. \n",
    " \n",
    "Perform following tasks:\n",
    "\n",
    "* Create a function `filter_list()` that inputs a list \n",
    "* Perform a for loop to iteratively check and append values to a new list if the value is less than 80 \n",
    "* Return the new list "
   ]
  },
  {
   "cell_type": "code",
   "execution_count": 12,
   "metadata": {},
   "outputs": [
    {
     "data": {
      "text/plain": [
       "[60, 70]"
      ]
     },
     "execution_count": 12,
     "metadata": {},
     "output_type": "execute_result"
    }
   ],
   "source": [
    "def filter_list(listA):\n",
    "    \n",
    "    listB = []\n",
    "    \n",
    "    # Perform filtering here  in a for loop\n",
    "    for element in listA:\n",
    "        if element < 80:\n",
    "            listB.append(element)\n",
    "    \n",
    "    return listB\n",
    "\n",
    "test = [60, 70, 80, 90]\n",
    "filter_list(test) # [60, 70]"
   ]
  },
  {
   "cell_type": "markdown",
   "metadata": {},
   "source": [
    "Great, now we can use `filter_list()` to filter our `height` list and plot a new histogram to see if things change considerably.  "
   ]
  },
  {
   "cell_type": "code",
   "execution_count": 13,
   "metadata": {},
   "outputs": [],
   "source": [
    "# Filter the height list using the above function\n",
    "filtered_height = filter_list(height)"
   ]
  },
  {
   "cell_type": "code",
   "execution_count": 14,
   "metadata": {},
   "outputs": [
    {
     "data": {
      "image/png": "[encoded data removed]",
      "text/plain": [
       "<Figure size 576x360 with 1 Axes>"
      ]
     },
     "metadata": {
      "needs_background": "light"
     },
     "output_type": "display_data"
    }
   ],
   "source": [
    "# Expected output below\n",
    "plt.figure(figsize=(8, 5))\n",
    "plt.hist(filtered_height, bins=8)\n",
    "plt.show()"
   ]
  },
  {
   "cell_type": "markdown",
   "metadata": {},
   "source": [
    "Now that we have filtered the outliers out of our data, let's recreate our histogram with 8 bins using our filtered data. \n",
    "\n",
    "**_NOTE_**: You do not need to reimport matplotlib -- once it's been imported, it's stored in memory and can be accessed whenever we like in other cells. "
   ]
  },
  {
   "cell_type": "markdown",
   "metadata": {},
   "source": [
    "Since we've filtered our data to remove outliers, we should also recalculate the mean.  Do this now in the cell below. "
   ]
  },
  {
   "cell_type": "code",
   "execution_count": 15,
   "metadata": {},
   "outputs": [
    {
     "data": {
      "text/plain": [
       "66.85"
      ]
     },
     "execution_count": 15,
     "metadata": {},
     "output_type": "execute_result"
    }
   ],
   "source": [
    "# Get the mean of the new filtered_height list using our get_mean() function\n",
    "\n",
    "get_mean(filtered_height)\n",
    "# 66.85"
   ]
  },
  {
   "cell_type": "markdown",
   "metadata": {},
   "source": [
    "Does the mean height of our filtered data match up with what we see in our histogram of our filtered data?\n",
    "\n",
    "Note that in some analytical situations we may not be able to exclude the outliers in such a naive manner. So, let's go ahead and calculate other measures of central tendency as well. We'll start by calculating the median value for our original (unfiltered) height data. \n",
    "\n",
    "## Calculating the Median \n",
    "\n",
    "The median is the value directly in the middle of the dataset. In statistical terms, this is the **_Median Quartile_**. If the dataset was sorted from lowest value to highest value, the median is the value that would be larger than the first 50% of the data, and smaller than the second 50%.\n",
    "\n",
    "If the dataset has an odd number of values, then the median is the middle number.\n",
    "If the dataset has an even number of values, then we take the mean of the middle two numbers.\n",
    "\n",
    "In the cell below, write a function that takes in a list of numbers and returns the median value for that dataset. Make sure you first check for even / odd number of data points and perform the computation accordingly. The best approach to calculate the median is as follows:\n",
    "\n",
    "1. Sort the data \n",
    "2. Check if the data has even or odd number of data points \n",
    "3. Calculate the median of the sorted data now that you know if the data is even or odd. \n",
    "\n",
    "(Hint: Recall that you can use modulo operator `%` in python to check if a value is even or odd -- odd numbers `% 2` will equal `1`, while even numbers `% 2` will equal `0`!)"
   ]
  },
  {
   "cell_type": "code",
   "execution_count": 16,
   "metadata": {},
   "outputs": [
    {
     "name": "stdout",
     "output_type": "stream",
     "text": [
      "3\n",
      "2.5\n"
     ]
    }
   ],
   "source": [
    "def get_median(data):\n",
    "\n",
    "    data_sorted = sorted(data)\n",
    "    \n",
    "    if len(data)%2 == 1:\n",
    "        med_index = len(data)//2\n",
    "        return data_sorted[med_index]\n",
    "    \n",
    "    else:\n",
    "        med_index2 = len(data)//2\n",
    "        med_index1 = med_index2 - 1\n",
    "        \n",
    "        med_sum = data[med_index1] + data[med_index2]\n",
    "        return med_sum / 2\n",
    "    # Check for even/odd and perform calculations accordingly - use if-else \n",
    "   \n",
    "    pass\n",
    "\n",
    "test1 = [5, 4, 1, 3, 2]\n",
    "test2 = [4, 2, 3, 1]\n",
    "\n",
    "print(get_median(test1)) # 3\n",
    "print(get_median(test2)) # 2.5"
   ]
  },
  {
   "cell_type": "markdown",
   "metadata": {},
   "source": [
    "Great, now we can pass in our original `height` list to this function to check the median. "
   ]
  },
  {
   "cell_type": "code",
   "execution_count": 18,
   "metadata": {},
   "outputs": [
    {
     "data": {
      "text/plain": [
       "(67, 67)"
      ]
     },
     "execution_count": 18,
     "metadata": {},
     "output_type": "execute_result"
    }
   ],
   "source": [
    "# Calculate the median of our original height list\n",
    "\n",
    "get_median(height), get_median(filtered_height)\n",
    "# 67"
   ]
  },
  {
   "cell_type": "markdown",
   "metadata": {},
   "source": [
    "So, we have 67, which is much closer to the filtered list mean (66.85) than the mean we calculated with actual list (69.58). So, median in this case seems to be a much better indicator of the central tendency found in the dataset. This makes sense because we've already learned that medians are less sensitive to outliers than mean values are! \n",
    "\n",
    "Next, we'll calculate the mode. This could give us better insight into the typical values in the dataset based on how frequent a value is.  \n",
    "\n",
    "## Calculating the Mode\n",
    "\n",
    "The mode is the value that shows up the most in a dataset. A dataset can have 0 or more modes. If no value shows up more than once, the dataset is considered to have no mode value. If two numbers show up the same number of times, that dataset is considered bimodal. Datasets where multiple values all show up the same number of times are considered multimodal.\n",
    "\n",
    "In the cell below, write a function that takes in a list of numbers and returns another list containing the mode value(s). In the case of only one mode, the list would have a single element. \n",
    "\n",
    "**_Hint_**: Building a **_Frequency Distribution_** table using dictionaries is probably the easiest way to approach this problem. Use each unique element from the height list as a key, and the frequency of this element as the value and build a dictionary. You can then simply identify the keys (heights) with maximum values. "
   ]
  },
  {
   "cell_type": "code",
   "execution_count": 28,
   "metadata": {},
   "outputs": [
    {
     "name": "stdout",
     "output_type": "stream",
     "text": [
      "[5]\n",
      "[1, 5]\n"
     ]
    }
   ],
   "source": [
    "def get_mode(data):\n",
    "\n",
    "    # Create and populate frequency distribution\n",
    "    frequency_dict = {}\n",
    "    \n",
    "    for number in data:\n",
    "        if number in frequency_dict.keys():\n",
    "            frequency_dict[number] += 1\n",
    "        else:\n",
    "            frequency_dict[number] = 1\n",
    "    \n",
    "    max_count = max(frequency_dict.values())\n",
    "    \n",
    "    modes = []\n",
    "    \n",
    "    for number, number_count in frequency_dict.items():\n",
    "        if number_count == max_count:\n",
    "            modes.append(number)\n",
    "    \n",
    "    return modes\n",
    "    \n",
    "    \n",
    "    \n",
    "    # Create a list for mode values\n",
    "    modes = []\n",
    "    \n",
    "    #from the dictionary, add element(s) to the modes list with max frequency\n",
    "\n",
    "    # Return the mode list \n",
    "    return modes\n",
    "\n",
    "test1 = [1, 2, 3, 5, 5, 4]\n",
    "test2 = [1, 1, 1, 2, 3, 4, 5, 5, 5]\n",
    "\n",
    "print(get_mode(test1)) # [5]\n",
    "print(get_mode(test2)) # [1, 5]"
   ]
  },
  {
   "cell_type": "markdown",
   "metadata": {},
   "source": [
    "That's done. Now you can use the above function to calculate the mode of the original `height` list to compare it with our mean and median values. "
   ]
  },
  {
   "cell_type": "code",
   "execution_count": 29,
   "metadata": {
    "scrolled": true
   },
   "outputs": [
    {
     "data": {
      "text/plain": [
       "[64]"
      ]
     },
     "execution_count": 29,
     "metadata": {},
     "output_type": "execute_result"
    }
   ],
   "source": [
    "# Calculate the mode of our original height list\n",
    "get_mode(height)"
   ]
  },
  {
   "cell_type": "markdown",
   "metadata": {},
   "source": [
    "So, the mode value is much lower than our mean and median calculated earlier. What do you make of this? The answer to that could be subjective and depends on the problem. i.e. if your problem is to identify sizes for garments that would sell the most, you cannot disregard mode. However, if you want to get an idea about the general or typical height of individuals, you can probably still do that with the median and the average. \n",
    "\n",
    "To get an even clearer picture, we know we need to see how much the values deviate from the central values we have identified. We have seen variance and standard deviation before as measures of such dispersion. Let's have a go at these to strengthen our understanding of this data. \n",
    "\n",
    "\n",
    "## Calculating the Variance\n",
    "\n",
    "The formula for variance is: \n",
    "\n",
    "$$ \\Large s^2 = \\frac{1}{n - 1} \\sum_{i=1}^{n}(x_i - \\bar{x})^2 $$\n",
    "\n",
    "Note that this formula is for the **sample** variance. The formula is slightly different than the formula for calculating population variance. Read more about the difference [here](https://www.macroption.com/population-sample-variance-standard-deviation/). In the cell below, write a function that takes a list of numbers as input and returns the variance (rounded to two decimal places) of the sample as output."
   ]
  },
  {
   "cell_type": "code",
   "execution_count": 31,
   "metadata": {},
   "outputs": [
    {
     "name": "stdout",
     "output_type": "stream",
     "text": [
      "2.67\n",
      "3.33\n",
      "3.25\n"
     ]
    }
   ],
   "source": [
    "def get_variance(sample):\n",
    "\n",
    "    # First, calculate the sample mean using get_mean()\n",
    "    sample_mean = get_mean(sample)\n",
    "    \n",
    "    # Now, subtract the sample mean from each point and square the result\n",
    "    sum_diffs = 0\n",
    "    for number in sample:\n",
    "        sum_diffs += (number - sample_mean)**2\n",
    "    \n",
    "    # Divide the total by the number of items in the sample to calculate variance \n",
    "    variance = sum_diffs / (len(sample) - 1)\n",
    "    \n",
    "    return round(variance, 2)\n",
    "\n",
    "test1 = [1, 2, 3, 5, 5, 4]\n",
    "test2 = [1, 1, 1, 2, 3, 4, 5, 5, 5]\n",
    "print(get_variance(test1)) # 2.67\n",
    "print(get_mean(test1)) # 3.33\n",
    "print(get_variance(test2)) # 3.25"
   ]
  },
  {
   "cell_type": "markdown",
   "metadata": {},
   "source": [
    "Now we can test the variance of our list `height` with our new `get_variance()` function. "
   ]
  },
  {
   "cell_type": "code",
   "execution_count": 33,
   "metadata": {},
   "outputs": [
    {
     "data": {
      "text/plain": [
       "(87.74, 15.29)"
      ]
     },
     "execution_count": 33,
     "metadata": {},
     "output_type": "execute_result"
    }
   ],
   "source": [
    "# Calculate the variance of our original height list\n",
    "\n",
    "# 87.74\n",
    "\n",
    "get_variance(height), get_variance(filtered_height)"
   ]
  },
  {
   "cell_type": "markdown",
   "metadata": {},
   "source": [
    "So this value, as we learned earlier, tells us a bit about the deviation but not in the units of underlying data. This is because it squares the values of deviations. Standard deviation, however, can deal with this issue as it takes the square roots of differences. So that would probably be a bit more revealing. \n",
    "\n",
    "## Calculating the Standard Deviation\n",
    "\n",
    "In the cell below, write a function that takes a list of numbers as input and returns the standard deviation of that sample as output.\n",
    "\n",
    "Recall that the formula for Standard Deviation is:\n",
    "\n",
    "$$ \\Large s = \\sqrt{\\frac{1}{n-1} \\sum_{i=1}^{n}(x_i - \\bar{x})^2} $$\n",
    "\n",
    "You would need the `sqrt()` function from `math` library to calculate the square root.\n",
    "\n",
    "**Note:** *Alternatively, another approach to finding the square root of a number would be to raise that number to the power of `0.5`. For example, if we wanted to find the square root of `100`, we could raise `100` to the power of `0.5`, which would give us the number `10.0`. However, **either** approach will work.*\n",
    "\n",
    "```python\n",
    "100**0.5\n",
    "# 10.0\n",
    "\n",
    "from math import sqrt\n",
    "sqrt(100)\n",
    "# 10.0\n",
    "```"
   ]
  },
  {
   "cell_type": "code",
   "execution_count": 34,
   "metadata": {},
   "outputs": [
    {
     "name": "stdout",
     "output_type": "stream",
     "text": [
      "84.03\n"
     ]
    }
   ],
   "source": [
    "from math import sqrt\n",
    "\n",
    "def get_stddev(lst):\n",
    "\n",
    "    var = get_variance(lst)\n",
    "    \n",
    "    stddev = sqrt(var)\n",
    "    \n",
    "    return round(stddev, 2)\n",
    "\n",
    "test = [120,112,131,211,312,90]\n",
    "\n",
    "print (get_stddev(test))\n",
    "# 84.03"
   ]
  },
  {
   "cell_type": "markdown",
   "metadata": {},
   "source": [
    "So now we can finally calculate the standard deviation for our `height` list and inspect the results. "
   ]
  },
  {
   "cell_type": "code",
   "execution_count": 35,
   "metadata": {},
   "outputs": [
    {
     "data": {
      "text/plain": [
       "9.37"
      ]
     },
     "execution_count": 35,
     "metadata": {},
     "output_type": "execute_result"
    }
   ],
   "source": [
    "# Calculate the standard deviation of our original height list\n",
    "\n",
    "# 9.37\n",
    "\n",
    "get_stddev(height)"
   ]
  },
  {
   "cell_type": "markdown",
   "metadata": {},
   "source": [
    "So 9.37 inches is the amount of deviation present in our dataset. As we are still including outlier values, this might be slightly affected but these results are now much more reliable. \n",
    "\n",
    "Finally, we will build a boxplot for height data and see if it agrees with our understanding for this data that we have developed up to this point. Use the `matplotlib`'s `boxplot()` function with height data and comment on the output."
   ]
  },
  {
   "cell_type": "code",
   "execution_count": 38,
   "metadata": {},
   "outputs": [
    {
     "data": {
      "image/png": "[encoded data removed]",
      "text/plain": [
       "<Figure size 576x1080 with 1 Axes>"
      ]
     },
     "metadata": {
      "needs_background": "light"
     },
     "output_type": "display_data"
    }
   ],
   "source": [
    "# boxplot here\n",
    "plt.figure(figsize=(8, 15))\n",
    "plt.boxplot(height)\n",
    "plt.show()"
   ]
  },
  {
   "cell_type": "markdown",
   "metadata": {},
   "source": [
    "## Summary \n",
    "\n",
    "In this lab, we performed a basic, yet detailed, statistical analysis around measuring the tendencies of center and spread for a given dataset. We looked at building a number of functions to calculate different measures and also used some statistical visualizations to strengthen our intuitions around the dataset. We shall see how we can simplify this process as we study `numpy` and `pandas` libraries to ease out the programming load while calculating basic statistics. "
   ]
  }
 ],
 "metadata": {
  "kernelspec": {
   "display_name": "Python 3",
   "language": "python",
   "name": "python3"
  },
  "language_info": {
   "codemirror_mode": {
    "name": "ipython",
    "version": 3
   },
   "file_extension": ".py",
   "mimetype": "text/x-python",
   "name": "python",
   "nbconvert_exporter": "python",
   "pygments_lexer": "ipython3",
   "version": "3.6.0"
  },
  "toc": {
   "base_numbering": 1,
   "nav_menu": {},
   "number_sections": true,
   "sideBar": true,
   "skip_h1_title": false,
   "title_cell": "Table of Contents",
   "title_sidebar": "Contents",
   "toc_cell": false,
   "toc_position": {},
   "toc_section_display": true,
   "toc_window_display": false
  }
 },
 "nbformat": 4,
 "nbformat_minor": 2
}
